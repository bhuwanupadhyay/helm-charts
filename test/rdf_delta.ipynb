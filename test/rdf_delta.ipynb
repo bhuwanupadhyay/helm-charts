{
 "cells": [
  {
   "cell_type": "code",
   "execution_count": 5,
   "outputs": [
    {
     "name": "stdout",
     "output_type": "stream",
     "text": [
      "\u001B[32mtask: [helm:lint] helm lint charts/rdf-delta\r\n",
      "\u001B[0m==> Linting charts/rdf-delta\r\n",
      "\r\n",
      "1 chart(s) linted, 0 chart(s) failed\r\n"
     ]
    }
   ],
   "source": [
    "!./k8s/install.sh"
   ],
   "metadata": {
    "collapsed": false,
    "ExecuteTime": {
     "end_time": "2023-06-17T23:37:50.071532Z",
     "start_time": "2023-06-17T23:37:49.869182Z"
    }
   }
  },
  {
   "cell_type": "code",
   "execution_count": 51,
   "outputs": [
    {
     "name": "stdout",
     "output_type": "stream",
     "text": [
      "\u001B[32mtask: [helm:install] helm upgrade --install rdf-delta charts/rdf-delta --namespace rdf-delta --create-namespace --wait --timeout 10m\r\n",
      "\u001B[0mRelease \"rdf-delta\" does not exist. Installing it now.\r\n",
      "NAME: rdf-delta\r\n",
      "LAST DEPLOYED: Sat Jun 17 18:48:29 2023\r\n",
      "NAMESPACE: rdf-delta\r\n",
      "STATUS: deployed\r\n",
      "REVISION: 1\r\n",
      "NOTES:\r\n",
      "1. Get the application URL by running these commands:\r\n",
      "  http://rdf-delta.k8s.localdev/\r\n"
     ]
    }
   ],
   "source": [
    "!task helm:lint CHART=rdf-delta"
   ],
   "metadata": {
    "collapsed": false,
    "ExecuteTime": {
     "end_time": "2023-06-17T23:49:31.713759Z",
     "start_time": "2023-06-17T23:48:29.287865Z"
    }
   }
  },
  {
   "cell_type": "code",
   "execution_count": 50,
   "outputs": [
    {
     "name": "stdout",
     "output_type": "stream",
     "text": [
      "\u001B[32mtask: [helm:delete] helm delete rdf-delta --namespace rdf-delta\r\n",
      "\u001B[0mrelease \"rdf-delta\" uninstalled\r\n"
     ]
    }
   ],
   "source": [
    "!task helm:install CHART=rdf-delta"
   ],
   "metadata": {
    "collapsed": false,
    "ExecuteTime": {
     "end_time": "2023-06-17T23:48:27.256052Z",
     "start_time": "2023-06-17T23:48:26.877015Z"
    }
   }
  },
  {
   "cell_type": "code",
   "execution_count": 103,
   "outputs": [
    {
     "name": "stdout",
     "output_type": "stream",
     "text": [
      "\u001B[32mtask: [helm:delete] helm delete rdf-delta --namespace rdf-delta\r\n",
      "\u001B[0mrelease \"rdf-delta\" uninstalled\r\n"
     ]
    }
   ],
   "source": [
    "!task helm:delete CHART=rdf-delta"
   ],
   "metadata": {
    "collapsed": false,
    "ExecuteTime": {
     "end_time": "2023-06-17T17:58:54.387490Z",
     "start_time": "2023-06-17T17:58:54.034832Z"
    }
   }
  },
  {
   "cell_type": "code",
   "execution_count": 7,
   "outputs": [
    {
     "name": "stdout",
     "output_type": "stream",
     "text": [
      "pod/busybox created\r\n"
     ]
    }
   ],
   "source": [
    "!kubectl create -f https://k8s.io/examples/admin/dns/busybox.yaml"
   ],
   "metadata": {
    "collapsed": false,
    "ExecuteTime": {
     "end_time": "2023-06-17T12:38:58.886978Z",
     "start_time": "2023-06-17T12:38:57.865531Z"
    }
   }
  },
  {
   "cell_type": "code",
   "execution_count": 52,
   "outputs": [
    {
     "name": "stdout",
     "output_type": "stream",
     "text": [
      "Server:    10.43.0.10\r\n",
      "Address 1: 10.43.0.10 kube-dns.kube-system.svc.cluster.local\r\n",
      "\r\n",
      "Name:      rdf-delta-0.rdf-delta-headless.rdf-delta.svc.cluster.local\r\n",
      "Address 1: 10.42.0.167 rdf-delta-0.rdf-delta-headless.rdf-delta.svc.cluster.local\r\n"
     ]
    }
   ],
   "source": [
    "!kubectl exec -ti busybox -- nslookup rdf-delta-0.rdf-delta-headless.rdf-delta.svc.cluster.local"
   ],
   "metadata": {
    "collapsed": false,
    "ExecuteTime": {
     "end_time": "2023-06-17T13:43:40.421253Z",
     "start_time": "2023-06-17T13:43:40.089448Z"
    }
   }
  },
  {
   "cell_type": "code",
   "execution_count": 52,
   "outputs": [],
   "source": [
    "!pip install SPARQLWrapper"
   ],
   "metadata": {
    "collapsed": false,
    "ExecuteTime": {
     "end_time": "2023-06-17T23:49:31.717550Z",
     "start_time": "2023-06-17T23:49:31.715096Z"
    }
   }
  },
  {
   "cell_type": "code",
   "execution_count": 59,
   "outputs": [],
   "source": [
    "from SPARQLWrapper import SPARQLWrapper, JSON"
   ],
   "metadata": {
    "collapsed": false,
    "ExecuteTime": {
     "end_time": "2023-06-17T23:49:41.268742Z",
     "start_time": "2023-06-17T23:49:41.264719Z"
    }
   }
  },
  {
   "cell_type": "code",
   "execution_count": 60,
   "outputs": [],
   "source": [
    "sparql_endpoint = \"https://rdf-delta.k8s.localdev/ds\"\n",
    "\n",
    "sparql = SPARQLWrapper(sparql_endpoint)"
   ],
   "metadata": {
    "collapsed": false,
    "ExecuteTime": {
     "end_time": "2023-06-17T23:49:41.508284Z",
     "start_time": "2023-06-17T23:49:41.503184Z"
    }
   }
  },
  {
   "cell_type": "code",
   "execution_count": 61,
   "outputs": [],
   "source": [
    "def insert_data():\n",
    "    sparql_query = \"\"\"\n",
    "        PREFIX rdf: <http://www.w3.org/1999/02/22-rdf-syntax-ns#>\n",
    "        PREFIX ex: <http://example.org/>\n",
    "\n",
    "        INSERT DATA {\n",
    "            ex:subject1 rdf:type ex:Person ;\n",
    "                         ex:name \"John\" .\n",
    "\n",
    "            ex:subject2 rdf:type ex:Person ;\n",
    "                         ex:name \"Jane\" .\n",
    "        }\n",
    "    \"\"\"\n",
    "\n",
    "    sparql.setQuery(sparql_query)\n",
    "    sparql.setMethod('POST')\n",
    "\n",
    "    sparql.query()\n",
    "\n",
    "    print(\"Data inserted successfully.\")"
   ],
   "metadata": {
    "collapsed": false,
    "ExecuteTime": {
     "end_time": "2023-06-17T23:49:41.696489Z",
     "start_time": "2023-06-17T23:49:41.693511Z"
    }
   }
  },
  {
   "cell_type": "code",
   "execution_count": 62,
   "outputs": [],
   "source": [
    "def search_data(sparql_query=None):\n",
    "    if sparql_query is None:\n",
    "\n",
    "        sparql_query = \"\"\"\n",
    "            PREFIX rdf: <http://www.w3.org/1999/02/22-rdf-syntax-ns#>\n",
    "            PREFIX ex: <http://example.org/>\n",
    "\n",
    "            SELECT ?name\n",
    "            WHERE {\n",
    "                ?subject rdf:type ex:Person ;\n",
    "                         ex:name ?name .\n",
    "            }\n",
    "        \"\"\"\n",
    "\n",
    "    sparql.setQuery(sparql_query)\n",
    "    sparql.setReturnFormat(JSON)\n",
    "\n",
    "    results = sparql.query().convert()\n",
    "\n",
    "    if 'results' in results:\n",
    "        bindings = results['results']['bindings']\n",
    "        if len(bindings) > 0:\n",
    "            print(\"Results:\")\n",
    "            for binding in bindings:\n",
    "                name = binding['name']['value']\n",
    "                print(\"Name:\", name)\n",
    "        else:\n",
    "            print(\"No results found.\")\n",
    "    else:\n",
    "        print(\"No results found.\")"
   ],
   "metadata": {
    "collapsed": false,
    "ExecuteTime": {
     "end_time": "2023-06-17T23:49:41.881740Z",
     "start_time": "2023-06-17T23:49:41.877094Z"
    }
   }
  },
  {
   "cell_type": "code",
   "execution_count": 63,
   "outputs": [],
   "source": [
    "def search_data_by_name(name):\n",
    "    sparql_query = \"\"\"\n",
    "        PREFIX rdf: <http://www.w3.org/1999/02/22-rdf-syntax-ns#>\n",
    "        PREFIX ex: <http://example.org/>\n",
    "\n",
    "        SELECT ?name\n",
    "        WHERE {\n",
    "            ?subject rdf:type ex:Person ;\n",
    "                     ex:name ?name .\n",
    "            FILTER (str(?name) = \"%s\")\n",
    "        }\n",
    "    \"\"\" % name\n",
    "    search_data(sparql_query)"
   ],
   "metadata": {
    "collapsed": false,
    "ExecuteTime": {
     "end_time": "2023-06-17T23:49:42.244617Z",
     "start_time": "2023-06-17T23:49:42.240340Z"
    }
   }
  },
  {
   "cell_type": "code",
   "execution_count": 64,
   "outputs": [
    {
     "name": "stdout",
     "output_type": "stream",
     "text": [
      "Data inserted successfully.\n"
     ]
    }
   ],
   "source": [
    "def update_data(subject_uri, new_name):\n",
    "    sparql_query = \"\"\"\n",
    "        PREFIX rdf: <http://www.w3.org/1999/02/22-rdf-syntax-ns#>\n",
    "        PREFIX ex: <http://example.org/>\n",
    "\n",
    "        DELETE {{\n",
    "            <{subject_uri}> ex:name ?old_name .\n",
    "        }}\n",
    "        INSERT {{\n",
    "            <{subject_uri}> ex:name \"{new_name}\" .\n",
    "        }}\n",
    "        WHERE {{\n",
    "            <{subject_uri}> rdf:type ex:Person ;\n",
    "                            ex:name ?old_name .\n",
    "        }}\n",
    "    \"\"\".format(subject_uri=subject_uri, new_name=new_name)\n",
    "\n",
    "    sparql.setQuery(sparql_query)\n",
    "    sparql.setMethod('POST')\n",
    "\n",
    "    sparql.query()\n",
    "\n",
    "    print(\"Data updated successfully.\")"
   ],
   "metadata": {
    "collapsed": false,
    "ExecuteTime": {
     "end_time": "2023-06-17T23:49:42.760672Z",
     "start_time": "2023-06-17T23:49:42.525216Z"
    }
   }
  },
  {
   "cell_type": "code",
   "execution_count": 111,
   "outputs": [
    {
     "name": "stdout",
     "output_type": "stream",
     "text": [
      "Data inserted successfully.\n"
     ]
    }
   ],
   "source": [
    "insert_data()"
   ],
   "metadata": {
    "collapsed": false,
    "ExecuteTime": {
     "end_time": "2023-06-17T18:00:10.645478Z",
     "start_time": "2023-06-17T18:00:10.425869Z"
    }
   }
  },
  {
   "cell_type": "code",
   "execution_count": 112,
   "outputs": [
    {
     "name": "stdout",
     "output_type": "stream",
     "text": [
      "Results:\n",
      "Name: John\n",
      "Name: Jane\n"
     ]
    }
   ],
   "source": [
    "search_data()"
   ],
   "metadata": {
    "collapsed": false,
    "ExecuteTime": {
     "end_time": "2023-06-17T18:00:11.445330Z",
     "start_time": "2023-06-17T18:00:11.401823Z"
    }
   }
  },
  {
   "cell_type": "code",
   "execution_count": 113,
   "outputs": [
    {
     "name": "stdout",
     "output_type": "stream",
     "text": [
      "Results:\n",
      "Name: John\n"
     ]
    }
   ],
   "source": [
    "search_data_by_name(\"John\")"
   ],
   "metadata": {
    "collapsed": false,
    "ExecuteTime": {
     "end_time": "2023-06-17T18:00:12.447649Z",
     "start_time": "2023-06-17T18:00:12.402560Z"
    }
   }
  },
  {
   "cell_type": "code",
   "execution_count": 114,
   "outputs": [
    {
     "name": "stdout",
     "output_type": "stream",
     "text": [
      "Data updated successfully.\n"
     ]
    }
   ],
   "source": [
    "update_data(\"http://example.org/subject1\", \"John Doe\")"
   ],
   "metadata": {
    "collapsed": false,
    "ExecuteTime": {
     "end_time": "2023-06-17T18:00:13.297184Z",
     "start_time": "2023-06-17T18:00:13.175488Z"
    }
   }
  },
  {
   "cell_type": "code",
   "execution_count": 118,
   "outputs": [
    {
     "name": "stdout",
     "output_type": "stream",
     "text": [
      "Results:\n",
      "Name: John Doe\n",
      "Name: Jane\n"
     ]
    }
   ],
   "source": [
    "search_data()"
   ],
   "metadata": {
    "collapsed": false,
    "ExecuteTime": {
     "end_time": "2023-06-17T18:00:58.713384Z",
     "start_time": "2023-06-17T18:00:58.629656Z"
    }
   }
  },
  {
   "cell_type": "code",
   "execution_count": 116,
   "outputs": [
    {
     "name": "stdout",
     "output_type": "stream",
     "text": [
      "Results:\n",
      "Name: John Doe\n"
     ]
    }
   ],
   "source": [
    "search_data_by_name(\"John Doe\")"
   ],
   "metadata": {
    "collapsed": false,
    "ExecuteTime": {
     "end_time": "2023-06-17T18:00:14.882282Z",
     "start_time": "2023-06-17T18:00:14.864486Z"
    }
   }
  },
  {
   "cell_type": "code",
   "execution_count": null,
   "outputs": [],
   "source": [],
   "metadata": {
    "collapsed": false
   }
  }
 ],
 "metadata": {
  "kernelspec": {
   "display_name": "Python 3",
   "language": "python",
   "name": "python3"
  },
  "language_info": {
   "codemirror_mode": {
    "name": "ipython",
    "version": 2
   },
   "file_extension": ".py",
   "mimetype": "text/x-python",
   "name": "python",
   "nbconvert_exporter": "python",
   "pygments_lexer": "ipython2",
   "version": "2.7.6"
  }
 },
 "nbformat": 4,
 "nbformat_minor": 0
}
