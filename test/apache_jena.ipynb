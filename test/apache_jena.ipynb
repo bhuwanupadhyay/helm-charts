{
 "cells": [
  {
   "cell_type": "code",
   "execution_count": null,
   "outputs": [],
   "source": [
    "!task helm:build CHART=apache-jena"
   ],
   "metadata": {
    "collapsed": false
   }
  },
  {
   "cell_type": "code",
   "execution_count": null,
   "outputs": [],
   "source": [
    "!task helm:install CHART=apache-jena"
   ],
   "metadata": {
    "collapsed": false
   }
  },
  {
   "cell_type": "code",
   "execution_count": null,
   "outputs": [],
   "source": [
    "!task helm:delete CHART=apache-jena"
   ],
   "metadata": {
    "collapsed": false
   }
  },
  {
   "cell_type": "code",
   "execution_count": null,
   "outputs": [],
   "source": [
    "!pip install SPARQLWrapper"
   ],
   "metadata": {
    "collapsed": false
   }
  },
  {
   "cell_type": "code",
   "execution_count": 41,
   "outputs": [],
   "source": [
    "from SPARQLWrapper import SPARQLWrapper, JSON"
   ],
   "metadata": {
    "collapsed": false,
    "ExecuteTime": {
     "end_time": "2023-06-15T01:27:36.652662Z",
     "start_time": "2023-06-15T01:27:36.646727Z"
    }
   }
  },
  {
   "cell_type": "code",
   "execution_count": 42,
   "outputs": [],
   "source": [
    "sparql_endpoint = \"http://localhost:3030/ds\"\n",
    "\n",
    "sparql = SPARQLWrapper(sparql_endpoint)"
   ],
   "metadata": {
    "collapsed": false,
    "ExecuteTime": {
     "end_time": "2023-06-15T01:27:36.654989Z",
     "start_time": "2023-06-15T01:27:36.651257Z"
    }
   }
  },
  {
   "cell_type": "code",
   "execution_count": 43,
   "outputs": [],
   "source": [
    "def insert_data():\n",
    "    sparql_query = \"\"\"\n",
    "        PREFIX rdf: <http://www.w3.org/1999/02/22-rdf-syntax-ns#>\n",
    "        PREFIX ex: <http://example.org/>\n",
    "\n",
    "        INSERT DATA {\n",
    "            ex:subject1 rdf:type ex:Person ;\n",
    "                         ex:name \"John\" .\n",
    "\n",
    "            ex:subject2 rdf:type ex:Person ;\n",
    "                         ex:name \"Jane\" .\n",
    "        }\n",
    "    \"\"\"\n",
    "\n",
    "    sparql.setQuery(sparql_query)\n",
    "    sparql.setMethod('POST')\n",
    "\n",
    "    sparql.query()\n",
    "\n",
    "    print(\"Data inserted successfully.\")"
   ],
   "metadata": {
    "collapsed": false,
    "ExecuteTime": {
     "end_time": "2023-06-15T01:27:36.658337Z",
     "start_time": "2023-06-15T01:27:36.655507Z"
    }
   }
  },
  {
   "cell_type": "code",
   "execution_count": 44,
   "outputs": [],
   "source": [
    "def search_data(sparql_query=None):\n",
    "    if sparql_query is None:\n",
    "\n",
    "        sparql_query = \"\"\"\n",
    "            PREFIX rdf: <http://www.w3.org/1999/02/22-rdf-syntax-ns#>\n",
    "            PREFIX ex: <http://example.org/>\n",
    "\n",
    "            SELECT ?name\n",
    "            WHERE {\n",
    "                ?subject rdf:type ex:Person ;\n",
    "                         ex:name ?name .\n",
    "            }\n",
    "        \"\"\"\n",
    "\n",
    "    sparql.setQuery(sparql_query)\n",
    "    sparql.setReturnFormat(JSON)\n",
    "\n",
    "    results = sparql.query().convert()\n",
    "\n",
    "    if 'results' in results:\n",
    "        bindings = results['results']['bindings']\n",
    "        if len(bindings) > 0:\n",
    "            print(\"Results:\")\n",
    "            for binding in bindings:\n",
    "                name = binding['name']['value']\n",
    "                print(\"Name:\", name)\n",
    "        else:\n",
    "            print(\"No results found.\")\n",
    "    else:\n",
    "        print(\"No results found.\")"
   ],
   "metadata": {
    "collapsed": false,
    "ExecuteTime": {
     "end_time": "2023-06-15T01:27:36.673958Z",
     "start_time": "2023-06-15T01:27:36.660657Z"
    }
   }
  },
  {
   "cell_type": "code",
   "execution_count": 45,
   "outputs": [],
   "source": [
    "def search_data_by_name(name):\n",
    "    sparql_query = \"\"\"\n",
    "        PREFIX rdf: <http://www.w3.org/1999/02/22-rdf-syntax-ns#>\n",
    "        PREFIX ex: <http://example.org/>\n",
    "\n",
    "        SELECT ?name\n",
    "        WHERE {\n",
    "            ?subject rdf:type ex:Person ;\n",
    "                     ex:name ?name .\n",
    "            FILTER (str(?name) = \"%s\")\n",
    "        }\n",
    "    \"\"\" % name\n",
    "    search_data(sparql_query)"
   ],
   "metadata": {
    "collapsed": false,
    "ExecuteTime": {
     "end_time": "2023-06-15T01:27:36.674289Z",
     "start_time": "2023-06-15T01:27:36.664819Z"
    }
   }
  },
  {
   "cell_type": "code",
   "execution_count": 46,
   "outputs": [],
   "source": [
    "def update_data(subject_uri, new_name):\n",
    "    sparql_query = \"\"\"\n",
    "        PREFIX rdf: <http://www.w3.org/1999/02/22-rdf-syntax-ns#>\n",
    "        PREFIX ex: <http://example.org/>\n",
    "\n",
    "        DELETE {{\n",
    "            <{subject_uri}> ex:name ?old_name .\n",
    "        }}\n",
    "        INSERT {{\n",
    "            <{subject_uri}> ex:name \"{new_name}\" .\n",
    "        }}\n",
    "        WHERE {{\n",
    "            <{subject_uri}> rdf:type ex:Person ;\n",
    "                            ex:name ?old_name .\n",
    "        }}\n",
    "    \"\"\".format(subject_uri=subject_uri, new_name=new_name)\n",
    "\n",
    "    sparql.setQuery(sparql_query)\n",
    "    sparql.setMethod('POST')\n",
    "\n",
    "    sparql.query()\n",
    "\n",
    "    print(\"Data updated successfully.\")"
   ],
   "metadata": {
    "collapsed": false,
    "ExecuteTime": {
     "end_time": "2023-06-15T01:27:36.674394Z",
     "start_time": "2023-06-15T01:27:36.668415Z"
    }
   }
  },
  {
   "cell_type": "code",
   "execution_count": 47,
   "outputs": [
    {
     "name": "stdout",
     "output_type": "stream",
     "text": [
      "Data inserted successfully.\n"
     ]
    }
   ],
   "source": [
    "insert_data()"
   ],
   "metadata": {
    "collapsed": false,
    "ExecuteTime": {
     "end_time": "2023-06-15T01:27:36.730608Z",
     "start_time": "2023-06-15T01:27:36.670830Z"
    }
   }
  },
  {
   "cell_type": "code",
   "execution_count": 48,
   "outputs": [
    {
     "name": "stdout",
     "output_type": "stream",
     "text": [
      "Results:\n",
      "Name: John\n",
      "Name: John Doe\n",
      "Name: Jane\n"
     ]
    }
   ],
   "source": [
    "search_data()"
   ],
   "metadata": {
    "collapsed": false,
    "ExecuteTime": {
     "end_time": "2023-06-15T01:27:36.767028Z",
     "start_time": "2023-06-15T01:27:36.731149Z"
    }
   }
  },
  {
   "cell_type": "code",
   "execution_count": 49,
   "outputs": [
    {
     "name": "stdout",
     "output_type": "stream",
     "text": [
      "Results:\n",
      "Name: John\n"
     ]
    }
   ],
   "source": [
    "search_data_by_name(\"John\")"
   ],
   "metadata": {
    "collapsed": false,
    "ExecuteTime": {
     "end_time": "2023-06-15T01:27:36.808620Z",
     "start_time": "2023-06-15T01:27:36.764073Z"
    }
   }
  },
  {
   "cell_type": "code",
   "execution_count": 50,
   "outputs": [
    {
     "name": "stdout",
     "output_type": "stream",
     "text": [
      "Data updated successfully.\n"
     ]
    }
   ],
   "source": [
    "update_data(\"http://example.org/subject1\", \"John Doe\")"
   ],
   "metadata": {
    "collapsed": false,
    "ExecuteTime": {
     "end_time": "2023-06-15T01:27:36.846776Z",
     "start_time": "2023-06-15T01:27:36.793079Z"
    }
   }
  },
  {
   "cell_type": "code",
   "execution_count": 51,
   "outputs": [
    {
     "name": "stdout",
     "output_type": "stream",
     "text": [
      "Results:\n",
      "Name: John Doe\n",
      "Name: Jane\n"
     ]
    }
   ],
   "source": [
    "search_data()"
   ],
   "metadata": {
    "collapsed": false,
    "ExecuteTime": {
     "end_time": "2023-06-15T01:27:36.850012Z",
     "start_time": "2023-06-15T01:27:36.828688Z"
    }
   }
  },
  {
   "cell_type": "code",
   "execution_count": 52,
   "outputs": [
    {
     "name": "stdout",
     "output_type": "stream",
     "text": [
      "Results:\n",
      "Name: John Doe\n"
     ]
    }
   ],
   "source": [
    "search_data_by_name(\"John Doe\")"
   ],
   "metadata": {
    "collapsed": false,
    "ExecuteTime": {
     "end_time": "2023-06-15T01:27:36.887449Z",
     "start_time": "2023-06-15T01:27:36.848094Z"
    }
   }
  }
 ],
 "metadata": {
  "kernelspec": {
   "display_name": "Python 3",
   "language": "python",
   "name": "python3"
  },
  "language_info": {
   "codemirror_mode": {
    "name": "ipython",
    "version": 2
   },
   "file_extension": ".py",
   "mimetype": "text/x-python",
   "name": "python",
   "nbconvert_exporter": "python",
   "pygments_lexer": "ipython2",
   "version": "2.7.6"
  }
 },
 "nbformat": 4,
 "nbformat_minor": 0
}
