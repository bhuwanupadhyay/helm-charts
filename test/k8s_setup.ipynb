{
 "cells": [
  {
   "cell_type": "code",
   "execution_count": 3,
   "outputs": [
    {
     "name": "stdout",
     "output_type": "stream",
     "text": [
      "File k8s.localdev+1-key.pem already exists\r\n",
      "Namespace default already exists\r\n",
      "secret/ingress-certs configured\r\n",
      "Namespace ingress-nginx already exists\r\n",
      "secret/ingress-certs configured\r\n",
      "namespace/helm-controller configured\r\n",
      "helmchart.helm.cattle.io/helm-controller unchanged\r\n",
      "namespace/ingress-nginx configured\r\n",
      "helmchart.helm.cattle.io/nginx-ingress unchanged\r\n"
     ]
    }
   ],
   "source": [
    "!./k8s/install.sh"
   ],
   "metadata": {
    "collapsed": false,
    "ExecuteTime": {
     "end_time": "2023-06-16T20:52:12.422867Z",
     "start_time": "2023-06-16T20:52:11.113131Z"
    }
   }
  }
 ],
 "metadata": {
  "kernelspec": {
   "display_name": "Python 3",
   "language": "python",
   "name": "python3"
  },
  "language_info": {
   "codemirror_mode": {
    "name": "ipython",
    "version": 2
   },
   "file_extension": ".py",
   "mimetype": "text/x-python",
   "name": "python",
   "nbconvert_exporter": "python",
   "pygments_lexer": "ipython2",
   "version": "2.7.6"
  }
 },
 "nbformat": 4,
 "nbformat_minor": 0
}
